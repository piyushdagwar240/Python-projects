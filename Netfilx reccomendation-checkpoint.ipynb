{
 "cells": [
  {
   "cell_type": "markdown",
   "id": "8ed8da29",
   "metadata": {},
   "source": [
    "# Netflix Reccomendation\n"
   ]
  },
  {
   "cell_type": "code",
   "execution_count": 9,
   "id": "a56409cb",
   "metadata": {},
   "outputs": [],
   "source": [
    "import numpy as np\n",
    "import pandas as pd\n",
    "from sklearn.feature_extraction import text\n",
    "from sklearn.metrics.pairwise import cosine_similarity"
   ]
  },
  {
   "cell_type": "code",
   "execution_count": 16,
   "id": "d151176b",
   "metadata": {},
   "outputs": [],
   "source": [
    "data=pd.read_csv(\"C:\\\\Users\\\\hp\\\\Downloads\\\\youtube-spam-collection-v1\\\\netflixData.csv\")"
   ]
  },
  {
   "cell_type": "code",
   "execution_count": 17,
   "id": "a1f23473",
   "metadata": {},
   "outputs": [
    {
     "name": "stdout",
     "output_type": "stream",
     "text": [
      "                                Show Id                          Title  \\\n",
      "0  cc1b6ed9-cf9e-4057-8303-34577fb54477                       (Un)Well   \n",
      "1  e2ef4e91-fb25-42ab-b485-be8e3b23dedb                         #Alive   \n",
      "2  b01b73b7-81f6-47a7-86d8-acb63080d525  #AnneFrank - Parallel Stories   \n",
      "3  b6611af0-f53c-4a08-9ffa-9716dc57eb9c                       #blackAF   \n",
      "4  7f2d4170-bab8-4d75-adc2-197f7124c070               #cats_the_mewvie   \n",
      "\n",
      "                                         Description  \\\n",
      "0  This docuseries takes a deep dive into the luc...   \n",
      "1  As a grisly virus rampages a city, a lone man ...   \n",
      "2  Through her diary, Anne Frank's story is retol...   \n",
      "3  Kenya Barris and his family navigate relations...   \n",
      "4  This pawesome documentary explores how our fel...   \n",
      "\n",
      "                      Director  \\\n",
      "0                          NaN   \n",
      "1                       Cho Il   \n",
      "2  Sabina Fedeli, Anna Migotto   \n",
      "3                          NaN   \n",
      "4             Michael Margolis   \n",
      "\n",
      "                                           Genres  \\\n",
      "0                                      Reality TV   \n",
      "1  Horror Movies, International Movies, Thrillers   \n",
      "2             Documentaries, International Movies   \n",
      "3                                     TV Comedies   \n",
      "4             Documentaries, International Movies   \n",
      "\n",
      "                                                Cast Production Country  \\\n",
      "0                                                NaN      United States   \n",
      "1                           Yoo Ah-in, Park Shin-hye        South Korea   \n",
      "2                        Helen Mirren, Gengher Gatti              Italy   \n",
      "3  Kenya Barris, Rashida Jones, Iman Benson, Genn...      United States   \n",
      "4                                                NaN             Canada   \n",
      "\n",
      "   Release Date Rating  Duration Imdb Score Content Type         Date Added  \n",
      "0        2020.0  TV-MA  1 Season     6.6/10      TV Show                NaN  \n",
      "1        2020.0  TV-MA    99 min     6.2/10        Movie  September 8, 2020  \n",
      "2        2019.0  TV-14    95 min     6.4/10        Movie       July 1, 2020  \n",
      "3        2020.0  TV-MA  1 Season     6.6/10      TV Show                NaN  \n",
      "4        2020.0  TV-14    90 min     5.1/10        Movie   February 5, 2020  \n"
     ]
    }
   ],
   "source": [
    "print(data.head())"
   ]
  },
  {
   "cell_type": "code",
   "execution_count": 18,
   "id": "1a614eac",
   "metadata": {},
   "outputs": [
    {
     "name": "stdout",
     "output_type": "stream",
     "text": [
      "Show Id                  0\n",
      "Title                    0\n",
      "Description              0\n",
      "Director              2064\n",
      "Genres                   0\n",
      "Cast                   530\n",
      "Production Country     559\n",
      "Release Date             3\n",
      "Rating                   4\n",
      "Duration                 3\n",
      "Imdb Score             608\n",
      "Content Type             0\n",
      "Date Added            1335\n",
      "dtype: int64\n"
     ]
    }
   ],
   "source": [
    "print(data.isnull().sum())"
   ]
  },
  {
   "cell_type": "code",
   "execution_count": 19,
   "id": "fa6d151e",
   "metadata": {},
   "outputs": [
    {
     "name": "stdout",
     "output_type": "stream",
     "text": [
      "                           Title  \\\n",
      "0                       (Un)Well   \n",
      "1                         #Alive   \n",
      "2  #AnneFrank - Parallel Stories   \n",
      "3                       #blackAF   \n",
      "4               #cats_the_mewvie   \n",
      "\n",
      "                                         Description Content Type  \\\n",
      "0  This docuseries takes a deep dive into the luc...      TV Show   \n",
      "1  As a grisly virus rampages a city, a lone man ...        Movie   \n",
      "2  Through her diary, Anne Frank's story is retol...        Movie   \n",
      "3  Kenya Barris and his family navigate relations...      TV Show   \n",
      "4  This pawesome documentary explores how our fel...        Movie   \n",
      "\n",
      "                                           Genres  \n",
      "0                                      Reality TV  \n",
      "1  Horror Movies, International Movies, Thrillers  \n",
      "2             Documentaries, International Movies  \n",
      "3                                     TV Comedies  \n",
      "4             Documentaries, International Movies  \n"
     ]
    }
   ],
   "source": [
    "data=data[[\"Title\",\"Description\",\"Content Type\",\"Genres\"]]\n",
    "print(data.head())"
   ]
  },
  {
   "cell_type": "code",
   "execution_count": 20,
   "id": "933a189a",
   "metadata": {},
   "outputs": [],
   "source": [
    "data=data.dropna()"
   ]
  },
  {
   "cell_type": "code",
   "execution_count": 27,
   "id": "ed30ef7b",
   "metadata": {},
   "outputs": [
    {
     "name": "stderr",
     "output_type": "stream",
     "text": [
      "[nltk_data] Downloading package stopwords to\n",
      "[nltk_data]     C:\\Users\\hp\\AppData\\Roaming\\nltk_data...\n",
      "[nltk_data]   Package stopwords is already up-to-date!\n"
     ]
    }
   ],
   "source": [
    "import nltk\n",
    "import re\n",
    "nltk.download('stopwords')\n",
    "stemmer = nltk.SnowballStemmer(\"english\")\n",
    "from nltk.corpus import stopwords\n",
    "import string\n",
    "stopword=set(stopwords.words('english'))\n",
    "\n",
    "def clean(text):\n",
    "    text = str(text).lower()\n",
    "    text = re.sub('\\[.*?\\]', '', text)\n",
    "    text = re.sub('https?://\\S+|www\\.\\S+', '', text)\n",
    "    text = re.sub('<.*?>+', '', text)\n",
    "    text = re.sub('[%s]' % re.escape(string.punctuation), '', text)\n",
    "    text = re.sub('\\n', '', text)\n",
    "    text = re.sub('\\w*\\d\\w*', '', text)\n",
    "    text = [word for word in text.split(' ') if word not in stopword]\n",
    "    text=\" \".join(text)\n",
    "    text = [stemmer.stem(word) for word in text.split(' ')]\n",
    "    text=\" \".join(text)\n",
    "    return text\n",
    "data[\"Title\"] = data[\"Title\"].apply(clean)"
   ]
  },
  {
   "cell_type": "code",
   "execution_count": 28,
   "id": "3f4c3553",
   "metadata": {},
   "outputs": [
    {
     "name": "stdout",
     "output_type": "stream",
     "text": [
      "1815        ginni  georgia\n",
      "1624    final found someon\n",
      "3264                amanda\n",
      "4976           last runway\n",
      "3769           privat life\n",
      "749              bodyguard\n",
      "2318      jack whiteh larg\n",
      "2927             mallesham\n",
      "1504               entangl\n",
      "5253        trial chicago \n",
      "Name: Title, dtype: object\n"
     ]
    }
   ],
   "source": [
    "print(data.Title.sample(10))"
   ]
  },
  {
   "cell_type": "code",
   "execution_count": 30,
   "id": "c3b7a24f",
   "metadata": {},
   "outputs": [],
   "source": [
    "feature=data[\"Genres\"].tolist()\n",
    "tfidf= text.TfidfVectorizer(input=feature, stop_words=\"english\")\n",
    "tfidf_matrix=tfidf.fit_transform(feature)\n",
    "similarity=cosine_similarity(tfidf_matrix)"
   ]
  },
  {
   "cell_type": "code",
   "execution_count": 31,
   "id": "e83adb9e",
   "metadata": {},
   "outputs": [],
   "source": [
    "indices=pd.Series(data.index, index=data[\"Title\"]).drop_duplicates()\n"
   ]
  },
  {
   "cell_type": "code",
   "execution_count": 38,
   "id": "540a5024",
   "metadata": {},
   "outputs": [
    {
     "name": "stdout",
     "output_type": "stream",
     "text": [
      "3                          blackaf\n",
      "285                     washington\n",
      "417                 arrest develop\n",
      "434     astronomi club sketch show\n",
      "451    aunti donna big ol hous fun\n",
      "656                      big mouth\n",
      "752                bojack horseman\n",
      "805                   brew brother\n",
      "935                       champion\n",
      "937                   chappel show\n",
      "Name: Title, dtype: object\n"
     ]
    }
   ],
   "source": [
    "def netFlix_recommendation(title, similarity = similarity):\n",
    "    index = indices[title]\n",
    "    similarity_scores = list(enumerate(similarity[index]))\n",
    "    similarity_scores = sorted(similarity_scores, key=lambda x: x[1], reverse=True)\n",
    "    similarity_scores = similarity_scores[0:10]\n",
    "    movieindices = [i[0] for i in similarity_scores]\n",
    "    return data['Title'].iloc[movieindices]\n",
    "\n",
    "print(netFlix_recommendation(\"girlfriend\"))"
   ]
  },
  {
   "cell_type": "code",
   "execution_count": null,
   "id": "4eb0c874",
   "metadata": {},
   "outputs": [],
   "source": []
  }
 ],
 "metadata": {
  "kernelspec": {
   "display_name": "Python 3 (ipykernel)",
   "language": "python",
   "name": "python3"
  },
  "language_info": {
   "codemirror_mode": {
    "name": "ipython",
    "version": 3
   },
   "file_extension": ".py",
   "mimetype": "text/x-python",
   "name": "python",
   "nbconvert_exporter": "python",
   "pygments_lexer": "ipython3",
   "version": "3.9.12"
  }
 },
 "nbformat": 4,
 "nbformat_minor": 5
}
